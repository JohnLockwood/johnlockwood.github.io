{
 "cells": [
  {
   "cell_type": "markdown",
   "id": "01bcd39c-4782-4ecf-adc0-92aa7c424d88",
   "metadata": {},
   "source": [
    "## Trig functions domain / range\n",
    "\n",
    "|$f(\\theta)$|domain|range|\n",
    "|-----|-----|---|\n",
    "|$\\sin{\\theta}$|$\\Re$||\n",
    "|$\\cos{\\theta}$|||\n",
    "|$\\tan{\\theta}$|||\n",
    "|$\\csc{\\theta}$|||\n",
    "|$\\sec{\\theta}$|||\n",
    "|$\\cot{\\theta}$|||"
   ]
  },
  {
   "cell_type": "code",
   "execution_count": null,
   "id": "da53486f-2803-4cbb-bf45-2f1f654d6d13",
   "metadata": {},
   "outputs": [],
   "source": []
  }
 ],
 "metadata": {
  "kernelspec": {
   "display_name": "Python 3 (ipykernel)",
   "language": "python",
   "name": "python3"
  },
  "language_info": {
   "codemirror_mode": {
    "name": "ipython",
    "version": 3
   },
   "file_extension": ".py",
   "mimetype": "text/x-python",
   "name": "python",
   "nbconvert_exporter": "python",
   "pygments_lexer": "ipython3",
   "version": "3.11.2"
  }
 },
 "nbformat": 4,
 "nbformat_minor": 5
}
