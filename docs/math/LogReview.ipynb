{
 "cells": [
  {
   "cell_type": "markdown",
   "id": "c7455201-6001-40b2-8c00-c24f0422df06",
   "metadata": {},
   "source": [
    "# Logarithms\n",
    "\n",
    "I feel like this area needed some review, so here are some notes on various things.  Logarithmic functions are inverse of exponential functions, so:\n",
    "\n",
    "$$ y = log_a x \\iff x = a^y $$\n",
    "\n",
    "See these resources:\n",
    "\n",
    "* [Logarithms -- How?](https://www.youtube.com/watch?v=Zw5t6BTQYRU)\n",
    "* [Solving Logarithmic Equations...How?](https://www.youtube.com/watch?v=rBnQiLa2TYo)"
   ]
  },
  {
   "cell_type": "markdown",
   "id": "b47a3f22-9fd4-472e-af54-8e21699bafe5",
   "metadata": {},
   "source": [
    "## Easy examples\n",
    "\n",
    "$log_3\\space9$\n",
    "\n",
    "think to yourself 3 to what power equals 9, but formally, do this, make it equal to x, i.e.\n",
    "\n",
    "$log_3\\space 9 = x$  \n",
    "\n",
    "Next use formula above so \n",
    "\n",
    "$log_3\\space 9 = x \\iff 3^x = 9$ \n",
    "\n",
    "therefore x = 2, or $ log_3\\space 9 = 2 $.  \n",
    "\n",
    "With no base, e.g. $ log 10000 $, then base = 10, so equals $log_{10} \\space10000 = x \\iff x^10 = 10000 = 4$.\n"
   ]
  },
  {
   "cell_type": "code",
   "execution_count": null,
   "id": "04c177b8-9b9a-4952-ae50-46b7a3625241",
   "metadata": {},
   "outputs": [],
   "source": []
  },
  {
   "cell_type": "code",
   "execution_count": 14,
   "id": "a70b788a-db32-409f-a276-dd5824082b8b",
   "metadata": {},
   "outputs": [
    {
     "name": "stdout",
     "output_type": "stream",
     "text": [
      "2.0\n",
      "9.210340371976184\n",
      "Log_10 of 10,000 = 4.0\n"
     ]
    }
   ],
   "source": [
    "from math import log\n",
    "\n",
    "# Base goes second in math.log\n",
    "print(log(9,3))\n",
    "\n",
    "# Python default is e, not 10! \n",
    "print(log(10000))\n",
    "\n",
    "# If set base to 10 as shown here get correct result for log_10(10000)\n",
    "print(\"Log_10 of 10,000 =\", log(10000, 10))"
   ]
  },
  {
   "cell_type": "code",
   "execution_count": 23,
   "id": "40659758-8d0d-4d31-882c-0548852328fc",
   "metadata": {},
   "outputs": [
    {
     "name": "stdout",
     "output_type": "stream",
     "text": [
      "2\n",
      "log(10000)\n",
      "9.21034037197618\n",
      "4\n"
     ]
    }
   ],
   "source": [
    "# In SymPy\n",
    "\n",
    "from sympy import init_printing, log, N\n",
    "\n",
    "# In the case of SymPy, as in Python we're also working with natural logs.  However, if we supply a base, the \n",
    "# log is evaluated.  Without a base, the natural log remains a symbolic expression:\n",
    "\n",
    "# Evaluate log_3(9)\n",
    "print(log(9,3))\n",
    "\n",
    "# Show the symbolic expression\n",
    "print(log(10000))\n",
    "\n",
    "# Evaluate the natural log\n",
    "print(N(log(10000)))\n",
    "\n",
    "# Show common log of 10,000\n",
    "print(log(10000, 10))"
   ]
  },
  {
   "cell_type": "markdown",
   "id": "1856a880-1bc9-48a4-adaf-e92916a6b9f0",
   "metadata": {},
   "source": [
    "## Easy examples\n",
    "\n",
    "$ log_3\\space9 $, think to yourself 3 to what power equals 9, but formally, do this, make it equal to x, i.e.\n",
    "$ x = log_3\\space 9 $.  Next use formula above so $ x = log_3\\space 9 \\iff 3^x = 9 $ therefore x = 2, or $ log_3\\space 9 = 2 $.  With no base, e.g. $ log 10000 $, then base = 10, so equals $log_{10} \\space10000 = x \\iff x^10 = 10000 = 4$.\n",
    "\n",
    "## Weirder logs\n",
    "\n",
    "$ log_2\\space\\frac{1}{8} = x \\iff 2^x = \\frac{1}{8}.\\space \\therefore \\space  x = -3$ \n",
    "\n",
    "Other weird ones:\n",
    "\n",
    "log 1 (1); log 0 (undefined); log (-1) (undefined)\n",
    "\n",
    "## Natural logs\n",
    "\n",
    "$ ln\\space1 = log_e\\space1 $\n",
    "\n",
    "Do same steps as before, set it to x and rearange to exponential form:\n",
    "\n",
    "$ log_e\\space1 = x \\iff x^x = 1 \\therefore x = 0 $\n",
    "\n",
    "$ ln(e^3) $  Visually, this should be 3!  Do it long way:\n",
    "\n",
    "$ ln_e (e^3) = x \\iff e^x = e^3 \\therefore x = 3 $\n",
    "\n",
    "## Even weirder\n",
    "\n",
    "$$ log_x\\space32 = 5 \\iff x^5 = 32 x = 2$$\n",
    "\n",
    "\n",
    "$$ log_5x = 3 \\iff 5^3 = x; x = 125$$\n",
    "\n",
    "$$ Calculate log_2\\space7 \\iff 2^x = 7 $$ \n",
    "\n",
    "Change of base formula says we can do:\n",
    "\n",
    "$$ \\frac{log\\space7}{log\\space2} $$ \n",
    "\n",
    "You need to plug that into a calculator.  Answer by the way is 2.807354922057604.\n",
    "\n",
    "## Log Properties\n",
    "\n",
    "$ log_a(x * y ) =  log_a\\space x + log_a\\space y $\n",
    "\n",
    "$ log_a\\space(\\frac{x}{y} ) =  log_a\\space x -  log_a\\space y $\n",
    "\n",
    "$ log_a\\space x^n  =  n\\space log_a\\space x $\n",
    "\n",
    "## More solving\n",
    "\n",
    "E.g. \n",
    "\n",
    "$$ \\log\\space (12x-7) = \\log\\space (3x+11) $$\n",
    "\n",
    "Looks hard but if logs have same base, can just set insides = to each other and solve, so\n",
    "\n",
    "$\n",
    "\t12x -7 = 3x + 11 \\\\ \n",
    "\t9x = 18 \\\\\n",
    "\tx = 2\n",
    "$\n",
    "\n",
    "Based on equality property:\n",
    "\n",
    "$$\n",
    "log_b \\space m = log_b \\space m \\iff m = n\n",
    "$$\n",
    "\n",
    "Note, need to plug answer back into original equation -- occasionally doesn't work.  Above we get $ log 17 = log 17 $.  If get negative number, have to throw it out because log of negative # is undefined.\n",
    "\n",
    "Now, based on product property:\n",
    "\n",
    "\n",
    "$ log_a(x * y ) =  log_a\\space x + log_a\\space y $\n",
    "\n",
    "if have this problem:\n",
    "\n",
    "$ \\log_2 x + \\log_2 (x-2) = 3 $\n",
    "\n",
    "Equivalent to\n",
    "\n",
    "$ \\log_2 \\space (x * (x -2)) \\\\\n",
    "\\log_2 \\space \\therefore \\\\\n",
    "2^3 = x(x-2) \\\\\n",
    "8 = x^2 - 2x \\\\\n",
    "x^2 - 2x - 8 = 0 \\\\\n",
    "(x -4)(x + 2) = 0 \\\\\n",
    "x = 4, x = -2 \\\\\n",
    "x = 4, \\cancel{(x = 2)}\n",
    "$\n",
    "\n",
    "Have to plug back in... which leads us to throw out the -2 as it's a domain error.\n",
    "$\n",
    "\n"
   ]
  },
  {
   "cell_type": "code",
   "execution_count": null,
   "id": "a117d294-14e0-4270-9ccb-8b468ec8569b",
   "metadata": {},
   "outputs": [],
   "source": []
  }
 ],
 "metadata": {
  "kernelspec": {
   "display_name": "Python 3 (ipykernel)",
   "language": "python",
   "name": "python3"
  },
  "language_info": {
   "codemirror_mode": {
    "name": "ipython",
    "version": 3
   },
   "file_extension": ".py",
   "mimetype": "text/x-python",
   "name": "python",
   "nbconvert_exporter": "python",
   "pygments_lexer": "ipython3",
   "version": "3.11.2"
  }
 },
 "nbformat": 4,
 "nbformat_minor": 5
}
