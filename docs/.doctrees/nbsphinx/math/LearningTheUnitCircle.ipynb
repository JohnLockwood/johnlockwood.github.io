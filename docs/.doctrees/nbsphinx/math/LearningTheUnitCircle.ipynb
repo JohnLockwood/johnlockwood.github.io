{
 "cells": [
  {
   "cell_type": "markdown",
   "id": "3d8dd6ee-b2b4-434f-a2de-06cf5e8227ab",
   "metadata": {
    "setTimeout": 120
   },
   "source": [
    "# How I Learned the Unit Circle"
   ]
  },
  {
   "attachments": {},
   "cell_type": "markdown",
   "id": "f8123426-0475-4ac2-b4c5-737d6408ffd6",
   "metadata": {
    "setTimeout": 120
   },
   "source": [
    "## Some Background\n",
    "\n",
    "Sooner or later in your math career, someone will tell you that you need to memorize the Unit Circle -- a circle with the origin at 0,0 and a radius of 1 -- along with many measurements and coordinates for angles you'll find along the circumference.  The first person to tell me I needed to memorize this was Miss Chagnon, back in Algebra 2 and Trigonometry, which I took as a junior in high school.  Some of the other experiences I had in that class were awful enough that I swore I'd never take another math class for the rest of my life -- a vow I was to break later in my twenties (with pre-Calculus) and now again in my sixties, as I'm preparing to finally take Calculus for a grade (having studied it a fair amount informally online).\n",
    "\n",
    "## The Method\n",
    "\n",
    "Like anything else in math, I found the secret to finally making headway on \"things thou shalt learn\" is a combination of two things, a teacher who can teach you and a way to practice.  What I found that fit the bill perfectly were these two things:\n",
    "\n",
    "* For a teacher to teach it to me, the best resource I found for remembering the unit circle was Christa King Math's aptly titled [How to Remember the Unit Circle](https://www.youtube.com/watch?v=RS6qmQXP8fc&t=672s), which demonstrates a memory-friendly way to fill in a unit circle with these values:\n",
    "  * Coordinates.\n",
    "  * Angle in degrees\n",
    "  * Angle in radians\n",
    "* A way to practice what you've learned.  What I did in this case was print out a few of these [Unit Circle Worksheets](http://www.embeddedmath.com/downloads/files/unitcircle/blankunitcircle-letter.pdf), and the associated [filled-in version](http://www.embeddedmath.com/downloads/files/unitcircle/unitcircle-letter.pdf), which basically were a dead ringer for Christa's video.\n",
    "\n",
    "I found these two resources about a year ago.  After watching the video I filled out the worksheet several times, waiting a week each time to see if I could do it from memory.  This week I decided to review it once again.  Actually what I first tried to do was to show you how to print some nice unit circles in Matplotlib (see the \"Historical Note\", below), but a better tool for jogging my memory was to [make a copy](https://www.desmos.com/calculator/ebdbfuxeh7) of a neat Desmos graph I found. (You can click that link or see it in the IFrame below -- the live version on Desmos actually plots the angles, which the I find the IFrame supresses for some reason).\n",
    "\n",
    "When I entered 45 degrees for the value of $ \\alpha $ (the angle), the values for $ \\cos{\\alpha} $ and $ \\sin{\\alpha} $ were the same at 0.707106781187.  I seemed to recall from watching Christa's video (a year ago -- it pays to do the worksheets!), that that should end up being the same as $ \\frac{\\sqrt{2}}{2} $. As a check, I demonstrate that below using Python's math library, along with the values for 30 degrees and 60 degrees.\n",
    "\n",
    "One tip I'll point out that I needed to keep in mind when doing the worksheet is that on the unit circle, the coordinate values (x,y) along the circumference of the circle correspond to (cos, sin) values for the angle in question -- so it's the *opposite* of the way that would seem intuitive.\n",
    "\n",
    "Finally, if you're allowed to use a calculator as you likely will on your Calculus exam, for any positive or negative values for the degree in radians that is some whole-number multiple of $ \\frac{\\pi}{6} $, $ \\frac{\\pi}{4} $, there are a limited number of calculator results to remember.  0, 1, and 1/2 are of course pretty obvious, and 0.707106781187 works out to approximately $ \\frac{\\sqrt{2}}{2} $, just as 0.8660254037844386 works out to approximately $ \\frac{\\sqrt{3}}{2} $, as we demonstrate below.  I wouldn't try to memorize too much decimal precision for these, of course.\n",
    "\n",
    "## Jogging My Memory With a Neat Desmos Unit Circle"
   ]
  },
  {
   "cell_type": "code",
   "execution_count": 28,
   "id": "34dff31f-e4a9-4358-b9b1-c69e6aaad972",
   "metadata": {
    "scrolled": true
   },
   "outputs": [
    {
     "data": {
      "text/html": [
       "\n",
       "        <iframe\n",
       "            width=\"100%\"\n",
       "            height=\"700\"\n",
       "            src=\"https://www.desmos.com/calculator/ebdbfuxeh7\"\n",
       "            frameborder=\"0\"\n",
       "            allowfullscreen\n",
       "            \n",
       "        ></iframe>\n",
       "        "
      ],
      "text/plain": [
       "<IPython.lib.display.IFrame at 0x10b425310>"
      ]
     },
     "execution_count": 28,
     "metadata": {},
     "output_type": "execute_result"
    }
   ],
   "source": [
    "from IPython.display import IFrame\n",
    "IFrame(src='https://www.desmos.com/calculator/ebdbfuxeh7', width=\"100%\", height=700)"
   ]
  },
  {
   "cell_type": "markdown",
   "id": "a3c79f44",
   "metadata": {},
   "source": [
    "## Recalling Some Properties Using Matplotlib"
   ]
  },
  {
   "cell_type": "markdown",
   "id": "fa51dd74-e5b7-4cc2-92bb-71550442fbee",
   "metadata": {},
   "source": [
    "Show that of $\\sin{45^\\text{o}} = \\frac{\\sqrt{2}}{2} $"
   ]
  },
  {
   "cell_type": "code",
   "execution_count": 41,
   "id": "231d7571-c178-40d0-a503-e34cd41e4d24",
   "metadata": {},
   "outputs": [
    {
     "name": "stdout",
     "output_type": "stream",
     "text": [
      "0.7071067811865475\n",
      "0.7071067811865476\n"
     ]
    }
   ],
   "source": [
    "from math import sin, radians, sqrt, pi\n",
    "print(sin(radians(45)))\n",
    "print(sqrt(2)/2)"
   ]
  },
  {
   "cell_type": "markdown",
   "id": "a38bc580-5bba-4377-989f-e42f0b575e34",
   "metadata": {},
   "source": [
    "Show that of $\\sin{60^\\text{o}} = \\frac{\\sqrt{3}}{2} $"
   ]
  },
  {
   "cell_type": "code",
   "execution_count": 40,
   "id": "a2d29e75-f0b3-4c02-9033-10b3b4fbe28b",
   "metadata": {},
   "outputs": [
    {
     "name": "stdout",
     "output_type": "stream",
     "text": [
      "0.8660254037844386\n",
      "0.8660254037844386\n"
     ]
    }
   ],
   "source": [
    "print(sin(radians(60)))\n",
    "print(sqrt(3)/2)"
   ]
  },
  {
   "cell_type": "markdown",
   "id": "7de92162-2f06-4a5f-9c79-c0af0a96fd9a",
   "metadata": {},
   "source": [
    "Show that of $\\sin{30^\\text{o}} = \\frac{\\sqrt{1}}{2} = \\frac{1}{2} $"
   ]
  },
  {
   "cell_type": "code",
   "execution_count": 48,
   "id": "be2d99e9-a05e-4396-9e68-dff3c4ccdd0a",
   "metadata": {},
   "outputs": [
    {
     "name": "stdout",
     "output_type": "stream",
     "text": [
      "0.5\n"
     ]
    }
   ],
   "source": [
    "print(round(sin(radians(30)), 10))"
   ]
  },
  {
   "cell_type": "markdown",
   "id": "2de4cdc8-0ce7-40da-ba0d-784adaa81464",
   "metadata": {},
   "source": [
    "## Historical Note\n",
    "\n",
    "Some time ago I wrote a CodeSolid article on [graphing math functions in Matplotlib](https://codesolid.com/matplotlib-coordinates-toward-a-python-graphing-calculator/) -- which mainly focused on getting the aspect ratio looking more like a piece of standard graph paper, and less like what your computer wants to do by default (hint:  1024x768 is not 1000x1000, or what have you). Since then I tried spending some time in that rabbit hole, and I won't litter this page with it, but if you're interested in the litter here's a commit that has the [draft page](https://github.com/JohnLockwood/johnlockwood.github.io/blob/954dcfdca20ddab5e2da518c39cf7bd3862d26bd/src/math/UnitCircleSymPy.ipynb). \n",
    "\n",
    "The upshot of the CodeSolid article really is apt: use Desmos and other tools if your goal is learning math.  Use Matplotlib if your goal is learning Matplotlib."
   ]
  },
  {
   "cell_type": "code",
   "execution_count": null,
   "id": "19cbcfbf-b829-4beb-a06d-ec620d7555c7",
   "metadata": {},
   "outputs": [],
   "source": []
  }
 ],
 "metadata": {
  "kernelspec": {
   "display_name": "Python 3 (ipykernel)",
   "language": "python",
   "name": "python3"
  },
  "language_info": {
   "codemirror_mode": {
    "name": "ipython",
    "version": 3
   },
   "file_extension": ".py",
   "mimetype": "text/x-python",
   "name": "python",
   "nbconvert_exporter": "python",
   "pygments_lexer": "ipython3",
   "version": "3.11.2"
  }
 },
 "nbformat": 4,
 "nbformat_minor": 5
}
