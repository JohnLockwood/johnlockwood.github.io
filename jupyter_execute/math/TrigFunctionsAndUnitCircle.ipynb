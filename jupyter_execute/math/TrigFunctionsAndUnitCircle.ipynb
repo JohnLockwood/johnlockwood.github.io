{
 "cells": [
  {
   "cell_type": "markdown",
   "id": "58b9fe19-21d9-4bf2-b844-a6ffb936a0e6",
   "metadata": {},
   "source": [
    "# Using the Unit Circle in Trigonometry\n",
    "\n",
    "Reviewing for Calculus.  Notes taken on [Professor Leonard Trig 7 - How to Use the Unit Circle in Trigonometry](https://www.youtube.com/watch?v=GdRZfemxTFI&list=PLDesaqWTN6ESsmwELdrzhcGiRhk5DjwLP&index=81), November 8-9, 2023.\n",
    "\n",
    "[Let me apologize for the formatting of this -- this looks better in Jupyter Lab than it will here. I'm not sure \n",
    "\n",
    "Two different approaches to trig functions -- show why they work.\n",
    "\n",
    "One approach:  trig functions relate an angle to two sides of a right triangle.  (Usually one of the acute angles.) So need three things in every trig function.\n",
    "\n",
    "Other approach:\n",
    "\n",
    "![Unit Circle with right triangle](UnitCircle1.png)\n",
    "\n",
    "\n",
    "Remember for radians lectures  \n",
    "\n",
    "$$ s = r  \\theta $$\n",
    "\n",
    "On unit circle, r = 1, and function becomes \n",
    "\n",
    "$$ t = r\\times \\space \\theta $$ \n",
    "\n",
    "or \n",
    "\n",
    "$$ t = 1\\times\\theta $$\n",
    "\n",
    "so ONLY on a unit circle, angle is same as arc length.\n",
    "\n",
    "For radians, on unit circle, arc length = radius.  If radius not one, doesn't work.\n",
    "\n",
    "$$ \\sin t = \\sin \\theta = y $$\n",
    "$$ \\cos t = \\cos \\theta = x $$\n",
    "$$ \\tan t = \\tan \\theta = \\frac{y}{x} = \\frac{\\sin\\theta}{\\cos\\theta} $$\n",
    "\n",
    "$$ \\csc \\theta = \\frac{1}{y} $$  \n",
    "$$ \\sec \\theta = \\frac{1}{x} $$  \n",
    "$$ \\sec \\theta = \\frac{x}{y} $$  \n",
    "\n",
    "sin = y because y to x axis is vertical line, forming right triangle, etc.\n",
    "\n",
    "So trig functions relate either the arc length or central angle to the point on the unit circle.\n",
    "\n",
    "## SOH CAH TOA \n",
    "* SOH: Sin(θ) = Opposite / Hypotenuse\n",
    "* CAH: Cos(θ) = Adjacent / Hypotenuse\n",
    "* TOA: Tan(θ) = Opposite / Adjacent\n",
    "\n",
    "Now filling out unit circle.  Deal with \n",
    "\n",
    "## Quadrant Angles\n",
    "\n",
    "Figuring out all six trig functions for angles (in radians), 0, $ \\frac{\\pi}{2} $, $ \\pi $ $ \\frac{3}{2} \\pi $, $ 2 \\pi $.\n",
    "\n",
    "Note signs +/- for various functions in various quadrants.  \n",
    "\n",
    "Mnemonic:  All Students Take Calculus for what sign is in four quadrants (I. All II sin III tan IV cos)\n",
    "\n",
    "Relates to graphs of the trig functions\n",
    "\n",
    "Can we determine trig functions from a point, say $ \\lparen{-\\frac{1}{2}, \\frac{\\sqrt{3}}{2}} )$  \n",
    "\n",
    "Sin is y value, $ \\frac{\\sqrt{2}}{2} $  cos is x value, and tan is $ \\frac{cos}{sin} =  \\frac{y}{x} - \\sqrt{3} $.  When reciprocate, should [rationalize denominator](https://www.mathsisfun.com/algebra/rationalize-denominator.html).\n",
    "\n",
    "Exercise: Find 6 trig function values for $ \\frac{5\\pi}{3} $ \n",
    "\n",
    "I did some later functions on paper.  I did mine before he did his -- generally right. One mistake was on multiplying square roots.  Note that this is correct:\n",
    "\n",
    "$$ \\sqrt(2) \\space \\times \\space \\sqrt(3) = \\sqrt(6) $$\n",
    "\n",
    "I thought I had to leave it as left hand side (unsimplifed).\n",
    "\n",
    "Rest of video was mixed calculator / unit circles problems.  Well, Jupyter is a calculator too, :) here we go.  \n",
    "\n",
    "\n"
   ]
  },
  {
   "cell_type": "code",
   "execution_count": 1,
   "id": "e3d47391-7878-4e45-bb60-8af4c1da5e2c",
   "metadata": {},
   "outputs": [
    {
     "name": "stdout",
     "output_type": "stream",
     "text": [
      "sin(28 degrees) =  0.4694715627858908\n",
      "cot pi / 12 =  3.7320508075688776\n",
      "sin 1 degree =  0.01745240643728351\n",
      "sin 1 =  0.8414709848078965\n"
     ]
    }
   ],
   "source": [
    "import math\n",
    "\n",
    "print(\"sin(28 degrees) = \", math.sin(math.radians(28)))\n",
    "print(\"cot pi / 12 = \", 1 / math.tan(math.pi / 12))\n",
    "print(\"sin 1 degree = \", math.sin(math.radians(1)))\n",
    "print(\"sin 1 = \", math.sin(1))"
   ]
  },
  {
   "cell_type": "markdown",
   "id": "41c89e06-4bd7-4815-b80b-a02464fd7ba4",
   "metadata": {},
   "source": [
    "The above ended up being correct in terms of the lecture, so no dumb coding / typing mistakes.  Just ended up watching the less problem, finding trig functions for a point (-3, 4), because I'm just reviewing for Calculus, I don't want to major in trig. :) "
   ]
  },
  {
   "cell_type": "code",
   "execution_count": null,
   "id": "d61bcee1-010a-4e2a-b02c-81d90a4e372c",
   "metadata": {},
   "outputs": [],
   "source": []
  }
 ],
 "metadata": {
  "kernelspec": {
   "display_name": "Python 3 (ipykernel)",
   "language": "python",
   "name": "python3"
  },
  "language_info": {
   "codemirror_mode": {
    "name": "ipython",
    "version": 3
   },
   "file_extension": ".py",
   "mimetype": "text/x-python",
   "name": "python",
   "nbconvert_exporter": "python",
   "pygments_lexer": "ipython3",
   "version": "3.11.2"
  }
 },
 "nbformat": 4,
 "nbformat_minor": 5
}