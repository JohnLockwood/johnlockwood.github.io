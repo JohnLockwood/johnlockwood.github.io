{
 "cells": [
  {
   "cell_type": "markdown",
   "id": "4a9165c3",
   "metadata": {},
   "source": [
    "# Your Header here"
   ]
  },
  {
   "cell_type": "code",
   "execution_count": 1,
   "id": "434a62a4",
   "metadata": {},
   "outputs": [],
   "source": [
    "# Your code here"
   ]
  }
 ],
 "metadata": {
  "file_format": "mystnb",
  "kernelspec": {
   "display_name": "python3",
   "name": "python3"
  },
  "language_info": {
   "codemirror_mode": {
    "name": "ipython",
    "version": 3
   },
   "file_extension": ".py",
   "mimetype": "text/x-python",
   "name": "python",
   "nbconvert_exporter": "python",
   "pygments_lexer": "ipython3",
   "version": "3.11.2"
  },
  "source_map": [
   5,
   8
  ]
 },
 "nbformat": 4,
 "nbformat_minor": 5
}