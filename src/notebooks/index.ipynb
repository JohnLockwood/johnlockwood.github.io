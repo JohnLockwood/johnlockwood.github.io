{
 "cells": [
  {
   "cell_type": "markdown",
   "id": "23c2696e-067d-4500-98ed-05d10a6ea1de",
   "metadata": {},
   "source": [
    "# Notebooks (Experimental)"
   ]
  },
  {
   "cell_type": "code",
   "execution_count": 1,
   "id": "c8f6e6ec-b635-45b5-bf58-4b353c45f9a9",
   "metadata": {},
   "outputs": [
    {
     "name": "stdout",
     "output_type": "stream",
     "text": [
      "Just another test notebook\n"
     ]
    }
   ],
   "source": [
    "msg = \"Just another test notebook, rah!\"\n",
    "print(msg)"
   ]
  }
 ],
 "metadata": {
  "kernelspec": {
   "display_name": "Python 3 (ipykernel)",
   "language": "python",
   "name": "python3"
  },
  "language_info": {
   "codemirror_mode": {
    "name": "ipython",
    "version": 3
   },
   "file_extension": ".py",
   "mimetype": "text/x-python",
   "name": "python",
   "nbconvert_exporter": "python",
   "pygments_lexer": "ipython3",
   "version": "3.11.2"
  }
 },
 "nbformat": 4,
 "nbformat_minor": 5
}
